{
 "cells": [
  {
   "cell_type": "code",
   "execution_count": 3,
   "metadata": {},
   "outputs": [
    {
     "name": "stderr",
     "output_type": "stream",
     "text": [
      "C:\\Users\\pc\\AppData\\Local\\Temp\\ipykernel_8576\\2280405741.py:18: SettingWithCopyWarning: \n",
      "A value is trying to be set on a copy of a slice from a DataFrame.\n",
      "Try using .loc[row_indexer,col_indexer] = value instead\n",
      "\n",
      "See the caveats in the documentation: https://pandas.pydata.org/pandas-docs/stable/user_guide/indexing.html#returning-a-view-versus-a-copy\n",
      "  data_selected[column] = data_selected[column].replace(' ', np.nan)\n",
      "C:\\Users\\pc\\AppData\\Local\\Temp\\ipykernel_8576\\2280405741.py:19: SettingWithCopyWarning: \n",
      "A value is trying to be set on a copy of a slice from a DataFrame.\n",
      "Try using .loc[row_indexer,col_indexer] = value instead\n",
      "\n",
      "See the caveats in the documentation: https://pandas.pydata.org/pandas-docs/stable/user_guide/indexing.html#returning-a-view-versus-a-copy\n",
      "  data_selected[column] = data_selected[column].astype(float)\n",
      "C:\\Users\\pc\\AppData\\Local\\Temp\\ipykernel_8576\\2280405741.py:20: SettingWithCopyWarning: \n",
      "A value is trying to be set on a copy of a slice from a DataFrame\n",
      "\n",
      "See the caveats in the documentation: https://pandas.pydata.org/pandas-docs/stable/user_guide/indexing.html#returning-a-view-versus-a-copy\n",
      "  data_selected[column].fillna(data_selected[column].median(), inplace=True)\n",
      "C:\\Users\\pc\\AppData\\Local\\Temp\\ipykernel_8576\\2280405741.py:18: SettingWithCopyWarning: \n",
      "A value is trying to be set on a copy of a slice from a DataFrame.\n",
      "Try using .loc[row_indexer,col_indexer] = value instead\n",
      "\n",
      "See the caveats in the documentation: https://pandas.pydata.org/pandas-docs/stable/user_guide/indexing.html#returning-a-view-versus-a-copy\n",
      "  data_selected[column] = data_selected[column].replace(' ', np.nan)\n",
      "C:\\Users\\pc\\AppData\\Local\\Temp\\ipykernel_8576\\2280405741.py:19: SettingWithCopyWarning: \n",
      "A value is trying to be set on a copy of a slice from a DataFrame.\n",
      "Try using .loc[row_indexer,col_indexer] = value instead\n",
      "\n",
      "See the caveats in the documentation: https://pandas.pydata.org/pandas-docs/stable/user_guide/indexing.html#returning-a-view-versus-a-copy\n",
      "  data_selected[column] = data_selected[column].astype(float)\n",
      "C:\\Users\\pc\\AppData\\Local\\Temp\\ipykernel_8576\\2280405741.py:20: SettingWithCopyWarning: \n",
      "A value is trying to be set on a copy of a slice from a DataFrame\n",
      "\n",
      "See the caveats in the documentation: https://pandas.pydata.org/pandas-docs/stable/user_guide/indexing.html#returning-a-view-versus-a-copy\n",
      "  data_selected[column].fillna(data_selected[column].median(), inplace=True)\n",
      "C:\\Users\\pc\\AppData\\Local\\Temp\\ipykernel_8576\\2280405741.py:18: SettingWithCopyWarning: \n",
      "A value is trying to be set on a copy of a slice from a DataFrame.\n",
      "Try using .loc[row_indexer,col_indexer] = value instead\n",
      "\n",
      "See the caveats in the documentation: https://pandas.pydata.org/pandas-docs/stable/user_guide/indexing.html#returning-a-view-versus-a-copy\n",
      "  data_selected[column] = data_selected[column].replace(' ', np.nan)\n",
      "C:\\Users\\pc\\AppData\\Local\\Temp\\ipykernel_8576\\2280405741.py:19: SettingWithCopyWarning: \n",
      "A value is trying to be set on a copy of a slice from a DataFrame.\n",
      "Try using .loc[row_indexer,col_indexer] = value instead\n",
      "\n",
      "See the caveats in the documentation: https://pandas.pydata.org/pandas-docs/stable/user_guide/indexing.html#returning-a-view-versus-a-copy\n",
      "  data_selected[column] = data_selected[column].astype(float)\n",
      "C:\\Users\\pc\\AppData\\Local\\Temp\\ipykernel_8576\\2280405741.py:20: SettingWithCopyWarning: \n",
      "A value is trying to be set on a copy of a slice from a DataFrame\n",
      "\n",
      "See the caveats in the documentation: https://pandas.pydata.org/pandas-docs/stable/user_guide/indexing.html#returning-a-view-versus-a-copy\n",
      "  data_selected[column].fillna(data_selected[column].median(), inplace=True)\n",
      "C:\\Users\\pc\\AppData\\Local\\Temp\\ipykernel_8576\\2280405741.py:18: SettingWithCopyWarning: \n",
      "A value is trying to be set on a copy of a slice from a DataFrame.\n",
      "Try using .loc[row_indexer,col_indexer] = value instead\n",
      "\n",
      "See the caveats in the documentation: https://pandas.pydata.org/pandas-docs/stable/user_guide/indexing.html#returning-a-view-versus-a-copy\n",
      "  data_selected[column] = data_selected[column].replace(' ', np.nan)\n",
      "C:\\Users\\pc\\AppData\\Local\\Temp\\ipykernel_8576\\2280405741.py:19: SettingWithCopyWarning: \n",
      "A value is trying to be set on a copy of a slice from a DataFrame.\n",
      "Try using .loc[row_indexer,col_indexer] = value instead\n",
      "\n",
      "See the caveats in the documentation: https://pandas.pydata.org/pandas-docs/stable/user_guide/indexing.html#returning-a-view-versus-a-copy\n",
      "  data_selected[column] = data_selected[column].astype(float)\n",
      "C:\\Users\\pc\\AppData\\Local\\Temp\\ipykernel_8576\\2280405741.py:20: SettingWithCopyWarning: \n",
      "A value is trying to be set on a copy of a slice from a DataFrame\n",
      "\n",
      "See the caveats in the documentation: https://pandas.pydata.org/pandas-docs/stable/user_guide/indexing.html#returning-a-view-versus-a-copy\n",
      "  data_selected[column].fillna(data_selected[column].median(), inplace=True)\n",
      "C:\\Users\\pc\\AppData\\Local\\Temp\\ipykernel_8576\\2280405741.py:18: SettingWithCopyWarning: \n",
      "A value is trying to be set on a copy of a slice from a DataFrame.\n",
      "Try using .loc[row_indexer,col_indexer] = value instead\n",
      "\n",
      "See the caveats in the documentation: https://pandas.pydata.org/pandas-docs/stable/user_guide/indexing.html#returning-a-view-versus-a-copy\n",
      "  data_selected[column] = data_selected[column].replace(' ', np.nan)\n",
      "C:\\Users\\pc\\AppData\\Local\\Temp\\ipykernel_8576\\2280405741.py:19: SettingWithCopyWarning: \n",
      "A value is trying to be set on a copy of a slice from a DataFrame.\n",
      "Try using .loc[row_indexer,col_indexer] = value instead\n",
      "\n",
      "See the caveats in the documentation: https://pandas.pydata.org/pandas-docs/stable/user_guide/indexing.html#returning-a-view-versus-a-copy\n",
      "  data_selected[column] = data_selected[column].astype(float)\n",
      "C:\\Users\\pc\\AppData\\Local\\Temp\\ipykernel_8576\\2280405741.py:20: SettingWithCopyWarning: \n",
      "A value is trying to be set on a copy of a slice from a DataFrame\n",
      "\n",
      "See the caveats in the documentation: https://pandas.pydata.org/pandas-docs/stable/user_guide/indexing.html#returning-a-view-versus-a-copy\n",
      "  data_selected[column].fillna(data_selected[column].median(), inplace=True)\n",
      "C:\\Users\\pc\\AppData\\Local\\Temp\\ipykernel_8576\\2280405741.py:18: SettingWithCopyWarning: \n",
      "A value is trying to be set on a copy of a slice from a DataFrame.\n",
      "Try using .loc[row_indexer,col_indexer] = value instead\n",
      "\n",
      "See the caveats in the documentation: https://pandas.pydata.org/pandas-docs/stable/user_guide/indexing.html#returning-a-view-versus-a-copy\n",
      "  data_selected[column] = data_selected[column].replace(' ', np.nan)\n",
      "C:\\Users\\pc\\AppData\\Local\\Temp\\ipykernel_8576\\2280405741.py:19: SettingWithCopyWarning: \n",
      "A value is trying to be set on a copy of a slice from a DataFrame.\n",
      "Try using .loc[row_indexer,col_indexer] = value instead\n",
      "\n",
      "See the caveats in the documentation: https://pandas.pydata.org/pandas-docs/stable/user_guide/indexing.html#returning-a-view-versus-a-copy\n",
      "  data_selected[column] = data_selected[column].astype(float)\n",
      "C:\\Users\\pc\\AppData\\Local\\Temp\\ipykernel_8576\\2280405741.py:20: SettingWithCopyWarning: \n",
      "A value is trying to be set on a copy of a slice from a DataFrame\n",
      "\n",
      "See the caveats in the documentation: https://pandas.pydata.org/pandas-docs/stable/user_guide/indexing.html#returning-a-view-versus-a-copy\n",
      "  data_selected[column].fillna(data_selected[column].median(), inplace=True)\n",
      "C:\\Users\\pc\\AppData\\Local\\Temp\\ipykernel_8576\\2280405741.py:18: SettingWithCopyWarning: \n",
      "A value is trying to be set on a copy of a slice from a DataFrame.\n",
      "Try using .loc[row_indexer,col_indexer] = value instead\n",
      "\n",
      "See the caveats in the documentation: https://pandas.pydata.org/pandas-docs/stable/user_guide/indexing.html#returning-a-view-versus-a-copy\n",
      "  data_selected[column] = data_selected[column].replace(' ', np.nan)\n",
      "C:\\Users\\pc\\AppData\\Local\\Temp\\ipykernel_8576\\2280405741.py:19: SettingWithCopyWarning: \n",
      "A value is trying to be set on a copy of a slice from a DataFrame.\n",
      "Try using .loc[row_indexer,col_indexer] = value instead\n",
      "\n",
      "See the caveats in the documentation: https://pandas.pydata.org/pandas-docs/stable/user_guide/indexing.html#returning-a-view-versus-a-copy\n",
      "  data_selected[column] = data_selected[column].astype(float)\n",
      "C:\\Users\\pc\\AppData\\Local\\Temp\\ipykernel_8576\\2280405741.py:20: SettingWithCopyWarning: \n",
      "A value is trying to be set on a copy of a slice from a DataFrame\n",
      "\n",
      "See the caveats in the documentation: https://pandas.pydata.org/pandas-docs/stable/user_guide/indexing.html#returning-a-view-versus-a-copy\n",
      "  data_selected[column].fillna(data_selected[column].median(), inplace=True)\n",
      "C:\\Users\\pc\\AppData\\Local\\Temp\\ipykernel_8576\\2280405741.py:18: SettingWithCopyWarning: \n",
      "A value is trying to be set on a copy of a slice from a DataFrame.\n",
      "Try using .loc[row_indexer,col_indexer] = value instead\n",
      "\n",
      "See the caveats in the documentation: https://pandas.pydata.org/pandas-docs/stable/user_guide/indexing.html#returning-a-view-versus-a-copy\n",
      "  data_selected[column] = data_selected[column].replace(' ', np.nan)\n",
      "C:\\Users\\pc\\AppData\\Local\\Temp\\ipykernel_8576\\2280405741.py:19: SettingWithCopyWarning: \n",
      "A value is trying to be set on a copy of a slice from a DataFrame.\n",
      "Try using .loc[row_indexer,col_indexer] = value instead\n",
      "\n",
      "See the caveats in the documentation: https://pandas.pydata.org/pandas-docs/stable/user_guide/indexing.html#returning-a-view-versus-a-copy\n",
      "  data_selected[column] = data_selected[column].astype(float)\n",
      "C:\\Users\\pc\\AppData\\Local\\Temp\\ipykernel_8576\\2280405741.py:20: SettingWithCopyWarning: \n",
      "A value is trying to be set on a copy of a slice from a DataFrame\n",
      "\n",
      "See the caveats in the documentation: https://pandas.pydata.org/pandas-docs/stable/user_guide/indexing.html#returning-a-view-versus-a-copy\n",
      "  data_selected[column].fillna(data_selected[column].median(), inplace=True)\n",
      "C:\\Users\\pc\\AppData\\Local\\Temp\\ipykernel_8576\\2280405741.py:23: SettingWithCopyWarning: \n",
      "A value is trying to be set on a copy of a slice from a DataFrame.\n",
      "Try using .loc[row_indexer,col_indexer] = value instead\n",
      "\n",
      "See the caveats in the documentation: https://pandas.pydata.org/pandas-docs/stable/user_guide/indexing.html#returning-a-view-versus-a-copy\n",
      "  data_selected['LengthofCycle'] = data_selected['LengthofCycle'].astype(float)\n"
     ]
    }
   ],
   "source": [
    "# Import necessary libraries\n",
    "import pandas as pd\n",
    "import numpy as np\n",
    "from sklearn.preprocessing import StandardScaler\n",
    "from sklearn.decomposition import PCA\n",
    "# Load the data\n",
    "data = pd.read_csv('CycleData.csv')\n",
    "\n",
    "# Select the relevant columns\n",
    "selected_columns = ['Age', 'LengthofCycle', 'LengthofMenses', 'LengthofLutealPhase', \n",
    "                    'TotalNumberofHighDays', 'TotalNumberofPeakDays', 'TotalDaysofFertility', \n",
    "                    'TotalFertilityFormula', 'BMI', 'EstimatedDayofOvulation']\n",
    "data_selected = data[selected_columns]\n",
    "\n",
    "# Replace empty spaces with NaN, convert to float, and fill NaNs with the median\n",
    "for column in ['Age', 'LengthofMenses', 'LengthofLutealPhase', 'TotalNumberofHighDays', \n",
    "               'TotalNumberofPeakDays', 'TotalDaysofFertility', 'TotalFertilityFormula', 'BMI']:\n",
    "    data_selected[column] = data_selected[column].replace(' ', np.nan)\n",
    "    data_selected[column] = data_selected[column].astype(float)\n",
    "    data_selected[column].fillna(data_selected[column].median(), inplace=True)\n",
    "\n",
    "# Convert 'LengthofCycle' to float (it's already numeric and doesn't contain any missing values)\n",
    "data_selected['LengthofCycle'] = data_selected['LengthofCycle'].astype(float)\n"
   ]
  },
  {
   "cell_type": "code",
   "execution_count": 4,
   "metadata": {},
   "outputs": [],
   "source": [
    "data_selected.to_csv('Cleaned_CycleData_selected.csv', index=False)"
   ]
  },
  {
   "cell_type": "code",
   "execution_count": 5,
   "metadata": {},
   "outputs": [
    {
     "name": "stderr",
     "output_type": "stream",
     "text": [
      "C:\\Users\\pc\\AppData\\Local\\Temp\\ipykernel_8576\\475343248.py:2: SettingWithCopyWarning: \n",
      "A value is trying to be set on a copy of a slice from a DataFrame.\n",
      "Try using .loc[row_indexer,col_indexer] = value instead\n",
      "\n",
      "See the caveats in the documentation: https://pandas.pydata.org/pandas-docs/stable/user_guide/indexing.html#returning-a-view-versus-a-copy\n",
      "  data_selected['EstimatedDayofOvulation'] = data_selected['EstimatedDayofOvulation'].replace(' ', np.nan).astype(float)\n"
     ]
    },
    {
     "data": {
      "text/plain": [
       "(1515, 7)"
      ]
     },
     "execution_count": 5,
     "metadata": {},
     "output_type": "execute_result"
    }
   ],
   "source": [
    "# Convert 'EstimatedDayofOvulation' to float, and drop rows with missing values in this column\n",
    "data_selected['EstimatedDayofOvulation'] = data_selected['EstimatedDayofOvulation'].replace(' ', np.nan).astype(float)\n",
    "data_selected = data_selected.dropna(subset=['EstimatedDayofOvulation'])\n",
    "\n",
    "# Separate the data into features (X) and target (y)\n",
    "X = data_selected.drop(columns='EstimatedDayofOvulation')\n",
    "y = data_selected['EstimatedDayofOvulation']\n",
    "\n",
    "# Standardize the features\n",
    "scaler = StandardScaler()\n",
    "X_scaled = scaler.fit_transform(X)\n",
    "\n",
    "# Apply PCA\n",
    "pca = PCA()\n",
    "X_pca = pca.fit_transform(X_scaled)\n",
    "\n",
    "# Determine the number of components to keep\n",
    "explained_variance_ratio = pca.explained_variance_ratio_.cumsum()\n",
    "n_components = (explained_variance_ratio < 0.95).sum() + 1\n",
    "\n",
    "# Re-apply PCA with the optimal number of components\n",
    "pca = PCA(n_components=n_components)\n",
    "X_pca = pca.fit_transform(X_scaled)\n",
    "\n",
    "# Show the shape of the data after PCA\n",
    "X_pca.shape"
   ]
  },
  {
   "cell_type": "code",
   "execution_count": 1,
   "metadata": {},
   "outputs": [
    {
     "ename": "NameError",
     "evalue": "name 'X_pca' is not defined",
     "output_type": "error",
     "traceback": [
      "\u001b[1;31m---------------------------------------------------------------------------\u001b[0m",
      "\u001b[1;31mNameError\u001b[0m                                 Traceback (most recent call last)",
      "\u001b[1;32mc:\\Users\\pc\\Desktop\\FemCycle_APP\\MenstrualTest.ipynb Cell 4\u001b[0m line \u001b[0;36m5\n\u001b[0;32m      <a href='vscode-notebook-cell:/c%3A/Users/pc/Desktop/FemCycle_APP/MenstrualTest.ipynb#W3sZmlsZQ%3D%3D?line=1'>2</a>\u001b[0m \u001b[39mfrom\u001b[39;00m \u001b[39msklearn\u001b[39;00m\u001b[39m.\u001b[39;00m\u001b[39mlinear_model\u001b[39;00m \u001b[39mimport\u001b[39;00m LinearRegression\n\u001b[0;32m      <a href='vscode-notebook-cell:/c%3A/Users/pc/Desktop/FemCycle_APP/MenstrualTest.ipynb#W3sZmlsZQ%3D%3D?line=3'>4</a>\u001b[0m \u001b[39m# Split the data into training and testing sets\u001b[39;00m\n\u001b[1;32m----> <a href='vscode-notebook-cell:/c%3A/Users/pc/Desktop/FemCycle_APP/MenstrualTest.ipynb#W3sZmlsZQ%3D%3D?line=4'>5</a>\u001b[0m X_train, X_test, y_train, y_test \u001b[39m=\u001b[39m train_test_split(X_pca, y, test_size\u001b[39m=\u001b[39m\u001b[39m0.2\u001b[39m, random_state\u001b[39m=\u001b[39m\u001b[39m42\u001b[39m)\n\u001b[0;32m      <a href='vscode-notebook-cell:/c%3A/Users/pc/Desktop/FemCycle_APP/MenstrualTest.ipynb#W3sZmlsZQ%3D%3D?line=6'>7</a>\u001b[0m \u001b[39m# Train a linear regression model\u001b[39;00m\n\u001b[0;32m      <a href='vscode-notebook-cell:/c%3A/Users/pc/Desktop/FemCycle_APP/MenstrualTest.ipynb#W3sZmlsZQ%3D%3D?line=7'>8</a>\u001b[0m model \u001b[39m=\u001b[39m LinearRegression()\n",
      "\u001b[1;31mNameError\u001b[0m: name 'X_pca' is not defined"
     ]
    }
   ],
   "source": [
    "from sklearn.model_selection import train_test_split\n",
    "from sklearn.linear_model import LinearRegression\n",
    "\n",
    "# Split the data into training and testing sets\n",
    "X_train, X_test, y_train, y_test = train_test_split(X_pca, y, test_size=0.2, random_state=42)\n",
    "\n",
    "# Train a linear regression model\n",
    "model = LinearRegression()\n",
    "model.fit(X_train, y_train)\n",
    "\n",
    "# Evaluate the model\n",
    "train_score = model.score(X_train, y_train)\n",
    "test_score = model.score(X_test, y_test)\n",
    "\n",
    "train_score, test_score\n"
   ]
  },
  {
   "cell_type": "code",
   "execution_count": 7,
   "metadata": {},
   "outputs": [
    {
     "data": {
      "text/plain": [
       "(17.0, 17.04973417131074)"
      ]
     },
     "execution_count": 7,
     "metadata": {},
     "output_type": "execute_result"
    }
   ],
   "source": [
    "# Select the first sample from the test set\n",
    "sample_X = X_test[0].reshape(1, -1)  # Reshape because the model expects a 2D array\n",
    "sample_y = y_test.iloc[0]\n",
    "\n",
    "# Make a prediction for the sample\n",
    "prediction = model.predict(sample_X)\n",
    "\n",
    "# Show the true and predicted values\n",
    "sample_y, prediction[0]\n"
   ]
  },
  {
   "cell_type": "code",
   "execution_count": 8,
   "metadata": {},
   "outputs": [
    {
     "data": {
      "text/plain": [
       "array([[ 0.21929261, -2.16295227, -0.3110106 , -0.50444007,  0.1955694 ,\n",
       "         0.24544818, -0.76438011]])"
      ]
     },
     "execution_count": 8,
     "metadata": {},
     "output_type": "execute_result"
    }
   ],
   "source": [
    "sample_X"
   ]
  },
  {
   "cell_type": "code",
   "execution_count": 9,
   "metadata": {},
   "outputs": [
    {
     "data": {
      "text/plain": [
       "17.0"
      ]
     },
     "execution_count": 9,
     "metadata": {},
     "output_type": "execute_result"
    }
   ],
   "source": [
    "sample_y"
   ]
  },
  {
   "cell_type": "code",
   "execution_count": 10,
   "metadata": {},
   "outputs": [
    {
     "data": {
      "text/plain": [
       "array([17.04973417])"
      ]
     },
     "execution_count": 10,
     "metadata": {},
     "output_type": "execute_result"
    }
   ],
   "source": [
    "prediction"
   ]
  }
 ],
 "metadata": {
  "kernelspec": {
   "display_name": "mens_venv",
   "language": "python",
   "name": "python3"
  },
  "language_info": {
   "codemirror_mode": {
    "name": "ipython",
    "version": 3
   },
   "file_extension": ".py",
   "mimetype": "text/x-python",
   "name": "python",
   "nbconvert_exporter": "python",
   "pygments_lexer": "ipython3",
   "version": "3.11.3"
  },
  "orig_nbformat": 4
 },
 "nbformat": 4,
 "nbformat_minor": 2
}
